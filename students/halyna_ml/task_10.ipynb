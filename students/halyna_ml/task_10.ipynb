{
 "cells": [
  {
   "cell_type": "code",
   "execution_count": 1,
   "metadata": {},
   "outputs": [
    {
     "name": "stderr",
     "output_type": "stream",
     "text": [
      "Using TensorFlow backend.\n",
      "/anaconda3/lib/python3.7/importlib/_bootstrap.py:219: RuntimeWarning: compiletime version 3.6 of module 'tensorflow.python.framework.fast_tensor_util' does not match runtime version 3.7\n",
      "  return f(*args, **kwds)\n"
     ]
    }
   ],
   "source": [
    "import re\n",
    "from gensim.models import KeyedVectors\n",
    "import numpy as np\n",
    "import pandas as pd\n",
    "import os\n",
    "import nltk\n",
    "from langdetect import detect \n",
    "import pymorphy2\n",
    "from sklearn.model_selection import train_test_split\n",
    "from sklearn.metrics.pairwise import cosine_similarity\n",
    "from sklearn.neighbors import KNeighborsClassifier\n",
    "from sklearn import preprocessing\n",
    "from sklearn.metrics import precision_recall_fscore_support\n",
    "from sklearn.metrics import classification_report\n",
    "import pickle\n",
    "import matplotlib.pyplot as plt\n",
    "\n",
    "\n",
    "from __future__ import print_function\n",
    "import torch\n",
    "import torch.nn as nn\n",
    "from torch.autograd import Variable\n",
    "import torch.nn.functional as F\n",
    "from torch.utils.data import DataLoader\n",
    "\n",
    "from keras.preprocessing.sequence import pad_sequences\n",
    "from keras.utils.np_utils import to_categorical\n",
    "from keras.models import Sequential\n",
    "from keras.layers import Dense, LSTM\n",
    "\n",
    "%matplotlib inline"
   ]
  },
  {
   "cell_type": "code",
   "execution_count": 2,
   "metadata": {},
   "outputs": [],
   "source": [
    "plt.rcParams.update({'font.size': 14})\n",
    "pd.set_option('display.max_colwidth', 500)"
   ]
  },
  {
   "cell_type": "markdown",
   "metadata": {},
   "source": [
    "**Practice 6**"
   ]
  },
  {
   "cell_type": "raw",
   "metadata": {},
   "source": [
    "завдання\n",
    "побудувати класифікатор категорї запиту\n",
    "для цього\n",
    "побудувати вектори-запити як агрегація векторів слів\n",
    "\n",
    "Doc2Vec \n",
    "-фільтрувати стоп-слова\n",
    "-лематизацію"
   ]
  },
  {
   "cell_type": "markdown",
   "metadata": {},
   "source": [
    "# Word2Vec UK"
   ]
  },
  {
   "cell_type": "code",
   "execution_count": 3,
   "metadata": {},
   "outputs": [],
   "source": [
    "# en_vectors_file = 'word_vectors/numberbatch-en.txt'\n",
    "uk_vectors_file = 'word_vectors/news.lowercased.tokenized.word2vec.300d'\n",
    "\n",
    "uk_vectors = KeyedVectors.load_word2vec_format(uk_vectors_file, binary=False)"
   ]
  },
  {
   "cell_type": "code",
   "execution_count": null,
   "metadata": {},
   "outputs": [],
   "source": [
    "# ik_vectors = uk_vectors.get_vector('слово')\n",
    "# uk_vectors.most_similar('слово', topn=3)"
   ]
  },
  {
   "cell_type": "code",
   "execution_count": 4,
   "metadata": {},
   "outputs": [
    {
     "data": {
      "text/plain": [
       "[('королева', 0.6513357162475586),\n",
       " ('принцеса', 0.5810298323631287),\n",
       " ('дама', 0.559023916721344)]"
      ]
     },
     "execution_count": 4,
     "metadata": {},
     "output_type": "execute_result"
    }
   ],
   "source": [
    "uk_vectors.most_similar(positive=['король', 'жінка'], negative=['чоловік'])[:3]"
   ]
  },
  {
   "cell_type": "raw",
   "metadata": {},
   "source": [
    "- Фільтруємо мову - лише укр\n",
    "- Беремо категорії, у яких хоча б 50 записів\n",
    "- Беремо леми\n",
    "\n",
    "doc2Vec\n",
    "- беремо слова з знайденими представленями, сумуємо вектори документу в один, ділимо кожну розмірність на кількість слів\n",
    "- тобто документ - це усереднене предсталвення слів"
   ]
  },
  {
   "cell_type": "code",
   "execution_count": 5,
   "metadata": {},
   "outputs": [],
   "source": [
    "morph = pymorphy2.MorphAnalyzer(lang='uk')"
   ]
  },
  {
   "cell_type": "code",
   "execution_count": 6,
   "metadata": {},
   "outputs": [],
   "source": [
    "def getTextVect(text):\n",
    "    tokens = nltk.word_tokenize(text)\n",
    "    lemmas = [(morph.parse(token)[0]).normal_form for token in tokens]\n",
    "    vectors = np.array([uk_vectors.get_vector(i.lower()) for i in lemmas if i.lower() in uk_vectors.vocab])    \n",
    "    return np.sum(vectors, axis=0)/len(vectors)\n",
    "\n",
    "def get_files(directory_path):\n",
    "    '''Read all files in the given directory to a dataframe'''\n",
    "    data = []\n",
    "\n",
    "    for filename in os.listdir(directory_path):\n",
    "        with open(os.path.join(directory_path, filename)) as f:\n",
    "            docs = re.split(r'\\n{3}', f.read())\n",
    "            for doc in docs:\n",
    "                try:\n",
    "                    language = detect(doc)\n",
    "                except:\n",
    "                    language = None\n",
    "                    continue\n",
    "                text_id = doc[:8].replace('\\n', '')\n",
    "                if doc.strip('\\n') and text_id.isdigit():\n",
    "                    data.append((text_id, filename[:len(filename)-4], doc[8:], language)) #\n",
    "\n",
    "    \n",
    "    df_data = pd.DataFrame(data, columns=['id', 'category', 'text', 'language'])\n",
    "    df_data = df_data[df_data['language']=='uk']\n",
    "    df_data = df_data[df_data['text'].map(lambda x: len(x.split())) > 3] \n",
    "    # Take categories with more than 50 samples\n",
    "    cat_sr = df_data['category'].value_counts()\n",
    "    cat_list = list(cat_sr[cat_sr  >= 50].index)\n",
    "    df_data = df_data[df_data['category'].isin(cat_list)] \n",
    "    \n",
    "    df_data['docVec'] = df_data['text'].map(getTextVect)\n",
    "    df_data = df_data[df_data['docVec'].map(lambda x: not(np.isnan(x).any()))].reset_index(drop=True)\n",
    "      \n",
    "    return df_data"
   ]
  },
  {
   "cell_type": "code",
   "execution_count": 7,
   "metadata": {},
   "outputs": [],
   "source": [
    "data_path = 'data/1551/'\n",
    "df_data = get_files(data_path)"
   ]
  },
  {
   "cell_type": "code",
   "execution_count": 8,
   "metadata": {},
   "outputs": [
    {
     "data": {
      "text/html": [
       "<div>\n",
       "<style scoped>\n",
       "    .dataframe tbody tr th:only-of-type {\n",
       "        vertical-align: middle;\n",
       "    }\n",
       "\n",
       "    .dataframe tbody tr th {\n",
       "        vertical-align: top;\n",
       "    }\n",
       "\n",
       "    .dataframe thead th {\n",
       "        text-align: right;\n",
       "    }\n",
       "</style>\n",
       "<table border=\"1\" class=\"dataframe\">\n",
       "  <thead>\n",
       "    <tr style=\"text-align: right;\">\n",
       "      <th></th>\n",
       "      <th>id</th>\n",
       "      <th>category</th>\n",
       "      <th>text</th>\n",
       "      <th>language</th>\n",
       "      <th>docVec</th>\n",
       "    </tr>\n",
       "  </thead>\n",
       "  <tbody>\n",
       "    <tr>\n",
       "      <th>0</th>\n",
       "      <td>3096223</td>\n",
       "      <td>Розрахунки--нарахування-та-перерахунок-субсидій</td>\n",
       "      <td>Хочу Вас спитати, маю я право на субсидію чи ні!\\nВ квартирі прописані я та дочка. Батько наш помер у 2014. Він мав інваліда війни 3 групи.Пільги як вдова померлого я оформила. В нас трикімнатна крартира. Кожен місяць рахунки більші за мою пенсію.Дочка навчається. Доходів крім моєї пенсії немає.\\n  \\n\\nз повагою, Гончаренко Олена Віталіївна\\nконт.273-56-71; 096-118-49-88; 099-143-30-12</td>\n",
       "      <td>uk</td>\n",
       "      <td>[-1.0909601, -0.116874695, -0.41176084, -0.6168467, 0.05903419, 0.21996725, -0.032099318, -0.0036675013, -0.27422172, -0.4149716, 0.042077873, -1.5608625, 0.037969887, -0.18948591, 1.2568499, 0.31287628, 0.25993744, 0.41402906, 0.13902104, 0.12801929, -0.3351061, -0.5710369, 0.3197645, 0.08948892, -0.79158115, 0.20108879, -0.4329994, -0.016682263, -0.5283405, 0.02291436, 0.40012473, -0.35378963, -0.018278781, 0.008978172, 0.4274974, 0.30007192, 0.3679476, -0.18099965, -0.24835421, 0.40721157...</td>\n",
       "    </tr>\n",
       "    <tr>\n",
       "      <th>1</th>\n",
       "      <td>3354708</td>\n",
       "      <td>Розрахунки--нарахування-та-перерахунок-субсидій</td>\n",
       "      <td>Питання про надання субсидій. Чому ходять чутки, що при продажі квартири, на яку було оформлено субсидію, з власника квартири буде стягнуто всю суму нарахованої субсидії за весь час отримання субсидії? Чому про це ніде не повідомляється? Прошу надати вичерпну відповідь.</td>\n",
       "      <td>uk</td>\n",
       "      <td>[-0.989955, 0.1926994, -0.6549754, -0.69367695, -0.22973049, 0.20039703, 0.105874084, -0.14682288, -0.39304075, -0.32372677, 0.13795793, -1.5760422, -0.53672814, -0.36410168, 0.77975285, -0.0048970045, -0.046453618, -0.48741838, -0.053976957, -0.30948785, -0.6815813, -0.40899828, 0.28822252, -0.2757823, -0.41960534, 0.31537753, -0.63145554, -0.26463896, -0.71724147, -0.07192315, 0.96926075, -0.13077907, 0.56775093, 0.46733233, 0.32225585, 0.16244592, -0.04388072, -0.0008768596, -0.19580287, ...</td>\n",
       "    </tr>\n",
       "    <tr>\n",
       "      <th>2</th>\n",
       "      <td>3350015</td>\n",
       "      <td>Розрахунки--нарахування-та-перерахунок-субсидій</td>\n",
       "      <td>Цього року я подала поштою необхідні документи (заяву, декларацію) для призначення субсидії на послуги ЖКГ до управління соцзахитсу населення Дніпровської РДА м.Києва. На сьогоднішній день відповіді про призначення субсидії чи відмову в призначенні не отримала, незважаючи на те, що передбачені законодавством строки вже давно минули. Зараз мені знову прийшли бланки заяви та декларації для призначення субсидії. Однак, я не знаю - чи надана мені вже субсидія чи ні.</td>\n",
       "      <td>uk</td>\n",
       "      <td>[-1.0093598, 0.32230285, -0.10971967, -0.64529246, 0.42100358, 0.1571968, 0.19914788, -0.39876357, -0.59269035, -0.56539327, 0.0057127276, -1.4707388, -0.20318426, -0.30612618, 0.7071646, 0.16231872, 0.15698154, -0.32329273, -0.25644627, 0.2602573, -0.33213568, -0.5507435, 0.4942982, -0.2537324, -0.5728912, -0.11887461, -0.89230424, -0.21637717, -0.65805537, 0.034131348, 0.78443456, -0.030089753, 0.53200746, -0.110284686, 0.6034805, 0.2598794, -0.185693, -0.16888574, -0.26421806, 0.6734322, ...</td>\n",
       "    </tr>\n",
       "    <tr>\n",
       "      <th>3</th>\n",
       "      <td>3223482</td>\n",
       "      <td>Розрахунки--нарахування-та-перерахунок-субсидій</td>\n",
       "      <td>Сьогодні був у відділі супсидій (повинні були автоматично перерахувати). Досі вони не знають коли іі оформлять, але обіцяють до вересня. Квитанціі приходять по 400грн. Що мені з ними робити і хто маєсплачувати піню ???</td>\n",
       "      <td>uk</td>\n",
       "      <td>[-1.0750777, -0.27748924, -0.586675, -0.7540479, 0.16387095, 0.47098255, 0.2622617, -0.12993161, -0.55929244, -1.0623599, -0.5242726, -2.553788, 0.19242902, -0.59329075, 1.2366024, 0.028148543, 0.7254445, -0.35880366, 0.07149989, -0.2749947, -0.4567566, -0.51454896, 0.6303797, -0.23550262, -0.5590706, 0.06902207, -0.47042003, -0.6323271, -0.53047526, -0.039445315, 1.6033472, 0.20761178, 0.053713005, 0.80484474, 0.3853791, 0.33037925, 0.4020571, -0.26278126, -0.038447775, 0.3728581, -1.144706...</td>\n",
       "    </tr>\n",
       "    <tr>\n",
       "      <th>4</th>\n",
       "      <td>3075714</td>\n",
       "      <td>Розрахунки--нарахування-та-перерахунок-субсидій</td>\n",
       "      <td>Як оформити і куди звертатися для оформлення субсидії?\\nЯ не працюю і не стою на обліку в центрі зайнятості.\\nДонька навчається на 2 курсі Могилянки.\\nВ квартирі прописана лише донька.</td>\n",
       "      <td>uk</td>\n",
       "      <td>[-1.4578284, -0.23575702, -0.5131072, -0.29448614, -0.017086294, 0.07154574, -0.023625283, 0.048714463, -0.26665318, -0.24543238, -0.42250505, -2.357352, -0.05490648, -0.13519908, 1.2816892, 0.62569046, 0.081969485, -0.07258087, -0.0352072, 0.34922737, -0.18650316, -0.5255508, 0.23716778, -0.08497687, -0.59917164, -0.32372394, -0.48858932, -0.07321261, -0.545889, -0.018029137, 0.78765005, -0.07657756, -0.19291124, -0.023129635, 0.923966, 0.27284634, 0.10240571, -0.29123968, -0.39172223, 0.71...</td>\n",
       "    </tr>\n",
       "  </tbody>\n",
       "</table>\n",
       "</div>"
      ],
      "text/plain": [
       "        id                                         category  \\\n",
       "0  3096223  Розрахунки--нарахування-та-перерахунок-субсидій   \n",
       "1  3354708  Розрахунки--нарахування-та-перерахунок-субсидій   \n",
       "2  3350015  Розрахунки--нарахування-та-перерахунок-субсидій   \n",
       "3  3223482  Розрахунки--нарахування-та-перерахунок-субсидій   \n",
       "4  3075714  Розрахунки--нарахування-та-перерахунок-субсидій   \n",
       "\n",
       "                                                                                                                                                                                                                                                                                                                                                                                                                                                                                 text  \\\n",
       "0                                                                                Хочу Вас спитати, маю я право на субсидію чи ні!\\nВ квартирі прописані я та дочка. Батько наш помер у 2014. Він мав інваліда війни 3 групи.Пільги як вдова померлого я оформила. В нас трикімнатна крартира. Кожен місяць рахунки більші за мою пенсію.Дочка навчається. Доходів крім моєї пенсії немає.\\n  \\n\\nз повагою, Гончаренко Олена Віталіївна\\nконт.273-56-71; 096-118-49-88; 099-143-30-12   \n",
       "1                                                                                                                                                                                                      Питання про надання субсидій. Чому ходять чутки, що при продажі квартири, на яку було оформлено субсидію, з власника квартири буде стягнуто всю суму нарахованої субсидії за весь час отримання субсидії? Чому про це ніде не повідомляється? Прошу надати вичерпну відповідь.   \n",
       "2  Цього року я подала поштою необхідні документи (заяву, декларацію) для призначення субсидії на послуги ЖКГ до управління соцзахитсу населення Дніпровської РДА м.Києва. На сьогоднішній день відповіді про призначення субсидії чи відмову в призначенні не отримала, незважаючи на те, що передбачені законодавством строки вже давно минули. Зараз мені знову прийшли бланки заяви та декларації для призначення субсидії. Однак, я не знаю - чи надана мені вже субсидія чи ні.   \n",
       "3                                                                                                                                                                                                                                                          Сьогодні був у відділі супсидій (повинні були автоматично перерахувати). Досі вони не знають коли іі оформлять, але обіцяють до вересня. Квитанціі приходять по 400грн. Що мені з ними робити і хто маєсплачувати піню ???   \n",
       "4                                                                                                                                                                                                                                                                                            Як оформити і куди звертатися для оформлення субсидії?\\nЯ не працюю і не стою на обліку в центрі зайнятості.\\nДонька навчається на 2 курсі Могилянки.\\nВ квартирі прописана лише донька.   \n",
       "\n",
       "  language  \\\n",
       "0       uk   \n",
       "1       uk   \n",
       "2       uk   \n",
       "3       uk   \n",
       "4       uk   \n",
       "\n",
       "                                                                                                                                                                                                                                                                                                                                                                                                                                                                                                                docVec  \n",
       "0  [-1.0909601, -0.116874695, -0.41176084, -0.6168467, 0.05903419, 0.21996725, -0.032099318, -0.0036675013, -0.27422172, -0.4149716, 0.042077873, -1.5608625, 0.037969887, -0.18948591, 1.2568499, 0.31287628, 0.25993744, 0.41402906, 0.13902104, 0.12801929, -0.3351061, -0.5710369, 0.3197645, 0.08948892, -0.79158115, 0.20108879, -0.4329994, -0.016682263, -0.5283405, 0.02291436, 0.40012473, -0.35378963, -0.018278781, 0.008978172, 0.4274974, 0.30007192, 0.3679476, -0.18099965, -0.24835421, 0.40721157...  \n",
       "1  [-0.989955, 0.1926994, -0.6549754, -0.69367695, -0.22973049, 0.20039703, 0.105874084, -0.14682288, -0.39304075, -0.32372677, 0.13795793, -1.5760422, -0.53672814, -0.36410168, 0.77975285, -0.0048970045, -0.046453618, -0.48741838, -0.053976957, -0.30948785, -0.6815813, -0.40899828, 0.28822252, -0.2757823, -0.41960534, 0.31537753, -0.63145554, -0.26463896, -0.71724147, -0.07192315, 0.96926075, -0.13077907, 0.56775093, 0.46733233, 0.32225585, 0.16244592, -0.04388072, -0.0008768596, -0.19580287, ...  \n",
       "2  [-1.0093598, 0.32230285, -0.10971967, -0.64529246, 0.42100358, 0.1571968, 0.19914788, -0.39876357, -0.59269035, -0.56539327, 0.0057127276, -1.4707388, -0.20318426, -0.30612618, 0.7071646, 0.16231872, 0.15698154, -0.32329273, -0.25644627, 0.2602573, -0.33213568, -0.5507435, 0.4942982, -0.2537324, -0.5728912, -0.11887461, -0.89230424, -0.21637717, -0.65805537, 0.034131348, 0.78443456, -0.030089753, 0.53200746, -0.110284686, 0.6034805, 0.2598794, -0.185693, -0.16888574, -0.26421806, 0.6734322, ...  \n",
       "3  [-1.0750777, -0.27748924, -0.586675, -0.7540479, 0.16387095, 0.47098255, 0.2622617, -0.12993161, -0.55929244, -1.0623599, -0.5242726, -2.553788, 0.19242902, -0.59329075, 1.2366024, 0.028148543, 0.7254445, -0.35880366, 0.07149989, -0.2749947, -0.4567566, -0.51454896, 0.6303797, -0.23550262, -0.5590706, 0.06902207, -0.47042003, -0.6323271, -0.53047526, -0.039445315, 1.6033472, 0.20761178, 0.053713005, 0.80484474, 0.3853791, 0.33037925, 0.4020571, -0.26278126, -0.038447775, 0.3728581, -1.144706...  \n",
       "4  [-1.4578284, -0.23575702, -0.5131072, -0.29448614, -0.017086294, 0.07154574, -0.023625283, 0.048714463, -0.26665318, -0.24543238, -0.42250505, -2.357352, -0.05490648, -0.13519908, 1.2816892, 0.62569046, 0.081969485, -0.07258087, -0.0352072, 0.34922737, -0.18650316, -0.5255508, 0.23716778, -0.08497687, -0.59917164, -0.32372394, -0.48858932, -0.07321261, -0.545889, -0.018029137, 0.78765005, -0.07657756, -0.19291124, -0.023129635, 0.923966, 0.27284634, 0.10240571, -0.29123968, -0.39172223, 0.71...  "
      ]
     },
     "execution_count": 8,
     "metadata": {},
     "output_type": "execute_result"
    }
   ],
   "source": [
    "df_data.head()"
   ]
  },
  {
   "cell_type": "code",
   "execution_count": 9,
   "metadata": {},
   "outputs": [
    {
     "data": {
      "text/html": [
       "<div>\n",
       "<style scoped>\n",
       "    .dataframe tbody tr th:only-of-type {\n",
       "        vertical-align: middle;\n",
       "    }\n",
       "\n",
       "    .dataframe tbody tr th {\n",
       "        vertical-align: top;\n",
       "    }\n",
       "\n",
       "    .dataframe thead th {\n",
       "        text-align: right;\n",
       "    }\n",
       "</style>\n",
       "<table border=\"1\" class=\"dataframe\">\n",
       "  <thead>\n",
       "    <tr style=\"text-align: right;\">\n",
       "      <th></th>\n",
       "      <th>id</th>\n",
       "      <th>category</th>\n",
       "      <th>text</th>\n",
       "      <th>language</th>\n",
       "      <th>docVec</th>\n",
       "    </tr>\n",
       "  </thead>\n",
       "  <tbody>\n",
       "  </tbody>\n",
       "</table>\n",
       "</div>"
      ],
      "text/plain": [
       "Empty DataFrame\n",
       "Columns: [id, category, text, language, docVec]\n",
       "Index: []"
      ]
     },
     "execution_count": 9,
     "metadata": {},
     "output_type": "execute_result"
    }
   ],
   "source": [
    "df_data[df_data['text'].isna()]"
   ]
  },
  {
   "cell_type": "code",
   "execution_count": 10,
   "metadata": {},
   "outputs": [
    {
     "data": {
      "text/plain": [
       "id          0\n",
       "category    0\n",
       "text        0\n",
       "language    0\n",
       "docVec      0\n",
       "dtype: int64"
      ]
     },
     "execution_count": 10,
     "metadata": {},
     "output_type": "execute_result"
    }
   ],
   "source": [
    "df_data[df_data['id'].str.isdigit()==False].count()"
   ]
  },
  {
   "cell_type": "markdown",
   "metadata": {},
   "source": [
    "**Save the pickle file with prepared data**"
   ]
  },
  {
   "cell_type": "code",
   "execution_count": 11,
   "metadata": {},
   "outputs": [],
   "source": [
    "with open('ffnn_big_df.pickle', 'wb') as f:\n",
    "    pickle.dump(df_data[['category', 'text','docVec']], f)"
   ]
  },
  {
   "cell_type": "markdown",
   "metadata": {},
   "source": [
    "\n",
    "# Feed Forward Neural network"
   ]
  },
  {
   "cell_type": "markdown",
   "metadata": {},
   "source": [
    "**Small dataset**"
   ]
  },
  {
   "cell_type": "code",
   "execution_count": null,
   "metadata": {},
   "outputs": [],
   "source": [
    "# data_path = 'data/short/1551/'\n",
    "# df_data = get_files(data_path)"
   ]
  },
  {
   "cell_type": "markdown",
   "metadata": {},
   "source": [
    "**Big dataset**"
   ]
  },
  {
   "cell_type": "code",
   "execution_count": null,
   "metadata": {},
   "outputs": [],
   "source": [
    "# data_path = 'data/1551/'\n",
    "# df_data = get_files(data_path)"
   ]
  },
  {
   "cell_type": "code",
   "execution_count": 12,
   "metadata": {},
   "outputs": [],
   "source": [
    "# Big dataset\n",
    "with open('ffnn_big_df.pickle', 'rb') as f:\n",
    "    df_data = pickle.load(f)[['category', 'docVec']]"
   ]
  },
  {
   "cell_type": "code",
   "execution_count": 13,
   "metadata": {},
   "outputs": [
    {
     "data": {
      "text/html": [
       "<div>\n",
       "<style scoped>\n",
       "    .dataframe tbody tr th:only-of-type {\n",
       "        vertical-align: middle;\n",
       "    }\n",
       "\n",
       "    .dataframe tbody tr th {\n",
       "        vertical-align: top;\n",
       "    }\n",
       "\n",
       "    .dataframe thead th {\n",
       "        text-align: right;\n",
       "    }\n",
       "</style>\n",
       "<table border=\"1\" class=\"dataframe\">\n",
       "  <thead>\n",
       "    <tr style=\"text-align: right;\">\n",
       "      <th></th>\n",
       "      <th>category</th>\n",
       "      <th>docVec</th>\n",
       "    </tr>\n",
       "  </thead>\n",
       "  <tbody>\n",
       "    <tr>\n",
       "      <th>0</th>\n",
       "      <td>Розрахунки--нарахування-та-перерахунок-субсидій</td>\n",
       "      <td>[-1.0909601, -0.116874695, -0.41176084, -0.6168467, 0.05903419, 0.21996725, -0.032099318, -0.0036675013, -0.27422172, -0.4149716, 0.042077873, -1.5608625, 0.037969887, -0.18948591, 1.2568499, 0.31287628, 0.25993744, 0.41402906, 0.13902104, 0.12801929, -0.3351061, -0.5710369, 0.3197645, 0.08948892, -0.79158115, 0.20108879, -0.4329994, -0.016682263, -0.5283405, 0.02291436, 0.40012473, -0.35378963, -0.018278781, 0.008978172, 0.4274974, 0.30007192, 0.3679476, -0.18099965, -0.24835421, 0.40721157...</td>\n",
       "    </tr>\n",
       "    <tr>\n",
       "      <th>1</th>\n",
       "      <td>Розрахунки--нарахування-та-перерахунок-субсидій</td>\n",
       "      <td>[-0.989955, 0.1926994, -0.6549754, -0.69367695, -0.22973049, 0.20039703, 0.105874084, -0.14682288, -0.39304075, -0.32372677, 0.13795793, -1.5760422, -0.53672814, -0.36410168, 0.77975285, -0.0048970045, -0.046453618, -0.48741838, -0.053976957, -0.30948785, -0.6815813, -0.40899828, 0.28822252, -0.2757823, -0.41960534, 0.31537753, -0.63145554, -0.26463896, -0.71724147, -0.07192315, 0.96926075, -0.13077907, 0.56775093, 0.46733233, 0.32225585, 0.16244592, -0.04388072, -0.0008768596, -0.19580287, ...</td>\n",
       "    </tr>\n",
       "    <tr>\n",
       "      <th>2</th>\n",
       "      <td>Розрахунки--нарахування-та-перерахунок-субсидій</td>\n",
       "      <td>[-1.0093598, 0.32230285, -0.10971967, -0.64529246, 0.42100358, 0.1571968, 0.19914788, -0.39876357, -0.59269035, -0.56539327, 0.0057127276, -1.4707388, -0.20318426, -0.30612618, 0.7071646, 0.16231872, 0.15698154, -0.32329273, -0.25644627, 0.2602573, -0.33213568, -0.5507435, 0.4942982, -0.2537324, -0.5728912, -0.11887461, -0.89230424, -0.21637717, -0.65805537, 0.034131348, 0.78443456, -0.030089753, 0.53200746, -0.110284686, 0.6034805, 0.2598794, -0.185693, -0.16888574, -0.26421806, 0.6734322, ...</td>\n",
       "    </tr>\n",
       "    <tr>\n",
       "      <th>3</th>\n",
       "      <td>Розрахунки--нарахування-та-перерахунок-субсидій</td>\n",
       "      <td>[-1.0750777, -0.27748924, -0.586675, -0.7540479, 0.16387095, 0.47098255, 0.2622617, -0.12993161, -0.55929244, -1.0623599, -0.5242726, -2.553788, 0.19242902, -0.59329075, 1.2366024, 0.028148543, 0.7254445, -0.35880366, 0.07149989, -0.2749947, -0.4567566, -0.51454896, 0.6303797, -0.23550262, -0.5590706, 0.06902207, -0.47042003, -0.6323271, -0.53047526, -0.039445315, 1.6033472, 0.20761178, 0.053713005, 0.80484474, 0.3853791, 0.33037925, 0.4020571, -0.26278126, -0.038447775, 0.3728581, -1.144706...</td>\n",
       "    </tr>\n",
       "    <tr>\n",
       "      <th>4</th>\n",
       "      <td>Розрахунки--нарахування-та-перерахунок-субсидій</td>\n",
       "      <td>[-1.4578284, -0.23575702, -0.5131072, -0.29448614, -0.017086294, 0.07154574, -0.023625283, 0.048714463, -0.26665318, -0.24543238, -0.42250505, -2.357352, -0.05490648, -0.13519908, 1.2816892, 0.62569046, 0.081969485, -0.07258087, -0.0352072, 0.34922737, -0.18650316, -0.5255508, 0.23716778, -0.08497687, -0.59917164, -0.32372394, -0.48858932, -0.07321261, -0.545889, -0.018029137, 0.78765005, -0.07657756, -0.19291124, -0.023129635, 0.923966, 0.27284634, 0.10240571, -0.29123968, -0.39172223, 0.71...</td>\n",
       "    </tr>\n",
       "  </tbody>\n",
       "</table>\n",
       "</div>"
      ],
      "text/plain": [
       "                                          category  \\\n",
       "0  Розрахунки--нарахування-та-перерахунок-субсидій   \n",
       "1  Розрахунки--нарахування-та-перерахунок-субсидій   \n",
       "2  Розрахунки--нарахування-та-перерахунок-субсидій   \n",
       "3  Розрахунки--нарахування-та-перерахунок-субсидій   \n",
       "4  Розрахунки--нарахування-та-перерахунок-субсидій   \n",
       "\n",
       "                                                                                                                                                                                                                                                                                                                                                                                                                                                                                                                docVec  \n",
       "0  [-1.0909601, -0.116874695, -0.41176084, -0.6168467, 0.05903419, 0.21996725, -0.032099318, -0.0036675013, -0.27422172, -0.4149716, 0.042077873, -1.5608625, 0.037969887, -0.18948591, 1.2568499, 0.31287628, 0.25993744, 0.41402906, 0.13902104, 0.12801929, -0.3351061, -0.5710369, 0.3197645, 0.08948892, -0.79158115, 0.20108879, -0.4329994, -0.016682263, -0.5283405, 0.02291436, 0.40012473, -0.35378963, -0.018278781, 0.008978172, 0.4274974, 0.30007192, 0.3679476, -0.18099965, -0.24835421, 0.40721157...  \n",
       "1  [-0.989955, 0.1926994, -0.6549754, -0.69367695, -0.22973049, 0.20039703, 0.105874084, -0.14682288, -0.39304075, -0.32372677, 0.13795793, -1.5760422, -0.53672814, -0.36410168, 0.77975285, -0.0048970045, -0.046453618, -0.48741838, -0.053976957, -0.30948785, -0.6815813, -0.40899828, 0.28822252, -0.2757823, -0.41960534, 0.31537753, -0.63145554, -0.26463896, -0.71724147, -0.07192315, 0.96926075, -0.13077907, 0.56775093, 0.46733233, 0.32225585, 0.16244592, -0.04388072, -0.0008768596, -0.19580287, ...  \n",
       "2  [-1.0093598, 0.32230285, -0.10971967, -0.64529246, 0.42100358, 0.1571968, 0.19914788, -0.39876357, -0.59269035, -0.56539327, 0.0057127276, -1.4707388, -0.20318426, -0.30612618, 0.7071646, 0.16231872, 0.15698154, -0.32329273, -0.25644627, 0.2602573, -0.33213568, -0.5507435, 0.4942982, -0.2537324, -0.5728912, -0.11887461, -0.89230424, -0.21637717, -0.65805537, 0.034131348, 0.78443456, -0.030089753, 0.53200746, -0.110284686, 0.6034805, 0.2598794, -0.185693, -0.16888574, -0.26421806, 0.6734322, ...  \n",
       "3  [-1.0750777, -0.27748924, -0.586675, -0.7540479, 0.16387095, 0.47098255, 0.2622617, -0.12993161, -0.55929244, -1.0623599, -0.5242726, -2.553788, 0.19242902, -0.59329075, 1.2366024, 0.028148543, 0.7254445, -0.35880366, 0.07149989, -0.2749947, -0.4567566, -0.51454896, 0.6303797, -0.23550262, -0.5590706, 0.06902207, -0.47042003, -0.6323271, -0.53047526, -0.039445315, 1.6033472, 0.20761178, 0.053713005, 0.80484474, 0.3853791, 0.33037925, 0.4020571, -0.26278126, -0.038447775, 0.3728581, -1.144706...  \n",
       "4  [-1.4578284, -0.23575702, -0.5131072, -0.29448614, -0.017086294, 0.07154574, -0.023625283, 0.048714463, -0.26665318, -0.24543238, -0.42250505, -2.357352, -0.05490648, -0.13519908, 1.2816892, 0.62569046, 0.081969485, -0.07258087, -0.0352072, 0.34922737, -0.18650316, -0.5255508, 0.23716778, -0.08497687, -0.59917164, -0.32372394, -0.48858932, -0.07321261, -0.545889, -0.018029137, 0.78765005, -0.07657756, -0.19291124, -0.023129635, 0.923966, 0.27284634, 0.10240571, -0.29123968, -0.39172223, 0.71...  "
      ]
     },
     "execution_count": 13,
     "metadata": {},
     "output_type": "execute_result"
    }
   ],
   "source": [
    "df_data.head()"
   ]
  },
  {
   "cell_type": "code",
   "execution_count": 14,
   "metadata": {},
   "outputs": [
    {
     "data": {
      "text/plain": [
       "186"
      ]
     },
     "execution_count": 14,
     "metadata": {},
     "output_type": "execute_result"
    }
   ],
   "source": [
    "df_data['category'].nunique()"
   ]
  },
  {
   "cell_type": "markdown",
   "metadata": {},
   "source": [
    "1) Data"
   ]
  },
  {
   "cell_type": "code",
   "execution_count": 15,
   "metadata": {},
   "outputs": [],
   "source": [
    "X, y = df_data['docVec'], df_data['category']\n",
    "X_train, X_test, y_train, y_test = train_test_split(X, y, test_size=0.20, random_state=42)"
   ]
  },
  {
   "cell_type": "code",
   "execution_count": 16,
   "metadata": {},
   "outputs": [],
   "source": [
    "le = preprocessing.LabelEncoder()\n",
    "le.fit(y_train)\n",
    "y_train_0 =  le.transform(y_train)\n",
    "y_test_0 =  le.transform(y_test)"
   ]
  },
  {
   "cell_type": "code",
   "execution_count": 17,
   "metadata": {},
   "outputs": [],
   "source": [
    "x_train_tensor  = torch.FloatTensor(list(X_train))\n",
    "y_train_tensor = torch.LongTensor(list(y_train_0))\n",
    "x_test_tensor  = torch.FloatTensor(list(X_test))\n",
    "y_test_tensor = torch.LongTensor(list(y_test_0))"
   ]
  },
  {
   "cell_type": "code",
   "execution_count": 18,
   "metadata": {
    "scrolled": true
   },
   "outputs": [
    {
     "name": "stdout",
     "output_type": "stream",
     "text": [
      "torch.Size([48608, 300])\n",
      "torch.Size([48608])\n"
     ]
    }
   ],
   "source": [
    "print(x_train_tensor.shape)\n",
    "print(y_train_tensor.shape)"
   ]
  },
  {
   "cell_type": "code",
   "execution_count": 19,
   "metadata": {},
   "outputs": [],
   "source": [
    "# Hyper-parameters \n",
    "input_size = 300\n",
    "hidden_size = 400\n",
    "num_classes = pd.Series(y_train_tensor).nunique()\n",
    "num_epochs = 500\n",
    "# batch_size = 662 #100\n",
    "learning_rate = 0.001"
   ]
  },
  {
   "cell_type": "markdown",
   "metadata": {},
   "source": [
    "## FeedForward Neural Network with Pytorch"
   ]
  },
  {
   "cell_type": "raw",
   "metadata": {},
   "source": [
    "2) architecture"
   ]
  },
  {
   "cell_type": "code",
   "execution_count": 20,
   "metadata": {},
   "outputs": [],
   "source": [
    "# Fully connected neural network with one hidden layer\n",
    "class NeuralNet(nn.Module):\n",
    "    def __init__(self, input_size, hidden_size, num_classes):\n",
    "        super(NeuralNet, self).__init__()\n",
    "        self.fc1 = nn.Linear(input_size, hidden_size) \n",
    "        self.relu = nn.ReLU()\n",
    "        self.fc2 = nn.Linear(hidden_size, num_classes)  \n",
    "        # 20% Dropout here\n",
    "        self.dropout = nn.Dropout(p=0.2)\n",
    "    \n",
    "    def forward(self, x):\n",
    "        # Linear function\n",
    "        out = self.fc1(x)\n",
    "        # Non-linearity\n",
    "        out = self.relu(out)\n",
    "        out = self.dropout(out)\n",
    "        out = self.fc2(out)\n",
    "#         out = self.dropout(out)\n",
    "        # Softmax layer\n",
    "        out = F.log_softmax(out, dim=1)\n",
    "        return out"
   ]
  },
  {
   "cell_type": "code",
   "execution_count": 21,
   "metadata": {},
   "outputs": [],
   "source": [
    "model = NeuralNet(input_size, hidden_size, num_classes)"
   ]
  },
  {
   "cell_type": "code",
   "execution_count": 22,
   "metadata": {},
   "outputs": [],
   "source": [
    "# Loss and optimizer\n",
    "criterion = nn.CrossEntropyLoss()\n",
    "optimizer = torch.optim.Adam(model.parameters(), lr=learning_rate)  "
   ]
  },
  {
   "cell_type": "code",
   "execution_count": 23,
   "metadata": {},
   "outputs": [
    {
     "name": "stdout",
     "output_type": "stream",
     "text": [
      "Epoch 0: train loss: 5.219505786895752 test loss: 5.103169918060303\n",
      "Epoch 100: train loss: 2.2459323406219482 test loss: 2.2678544521331787\n",
      "Epoch 200: train loss: 1.6656655073165894 test loss: 1.8071155548095703\n",
      "Epoch 300: train loss: 1.425361156463623 test loss: 1.6730554103851318\n",
      "Epoch 400: train loss: 1.260006308555603 test loss: 1.6223597526550293\n"
     ]
    }
   ],
   "source": [
    "# Initialize two empty arrays to hold the train and test losses\n",
    "train_losses, test_losses = [],[]\n",
    "\n",
    "train_loss = 0\n",
    "for epoch in range(num_epochs):\n",
    "    optimizer.zero_grad()\n",
    "    # Forward pass\n",
    "    y_pred = model(x_train_tensor)\n",
    "\n",
    "#     print(y_pred.shape)\n",
    "#     print(y_pred)\n",
    "#     print(y_train_tensor.shape)\n",
    "#     print(y_train_tensor)\n",
    "    # Compute Loss\n",
    "    loss = criterion(y_pred, y_train_tensor) #y_pred.squeeze(\n",
    "   \n",
    "    # Backward pass\n",
    "    loss.backward()\n",
    "    optimizer.step()\n",
    "    train_loss = loss.item()  \n",
    "    \n",
    "    # Turn off the gradients\n",
    "    with torch.no_grad():\n",
    "        log_ps = model(x_test_tensor)                                 \n",
    "        ps = torch.exp(log_ps)  \n",
    "        test_loss = criterion(log_ps, y_test_tensor)\n",
    "        top_p, top_class = ps.topk(1,dim=1)\n",
    "        equals = top_class == y_test_tensor.view(*top_class.shape)   \n",
    "        accuracy = torch.mean(equals.type(torch.FloatTensor))            \n",
    "    # Append the losses to the array for plotting       \n",
    "    train_losses.append(train_loss)\n",
    "    test_losses.append(test_loss)    \n",
    "    if (epoch%100 == 0):\n",
    "        print('Epoch {}: train loss: {} test loss: {}'.format(epoch, train_loss, test_loss))"
   ]
  },
  {
   "cell_type": "code",
   "execution_count": 24,
   "metadata": {},
   "outputs": [
    {
     "data": {
      "text/plain": [
       "<matplotlib.legend.Legend at 0x1a4a17d438>"
      ]
     },
     "execution_count": 24,
     "metadata": {},
     "output_type": "execute_result"
    },
    {
     "data": {
      "image/png": "[encoded data removed]",
      "text/plain": [
       "<Figure size 432x288 with 1 Axes>"
      ]
     },
     "metadata": {
      "needs_background": "light"
     },
     "output_type": "display_data"
    }
   ],
   "source": [
    "# Plot the graph here\n",
    "plt.plot(train_losses, label='Training Loss')\n",
    "plt.plot(test_losses, label='Validation Loss')\n",
    "plt.legend(frameon=True)"
   ]
  },
  {
   "cell_type": "code",
   "execution_count": null,
   "metadata": {},
   "outputs": [],
   "source": []
  },
  {
   "cell_type": "markdown",
   "metadata": {},
   "source": [
    "## Evaluation on test"
   ]
  },
  {
   "cell_type": "code",
   "execution_count": 25,
   "metadata": {},
   "outputs": [
    {
     "name": "stdout",
     "output_type": "stream",
     "text": [
      "Accuracy of the network on the 10000 test images: 57.71066491112574 %\n"
     ]
    }
   ],
   "source": [
    "outputs = model(x_test_tensor)\n",
    "_, predicted = torch.max(outputs.data, 1)\n",
    "total = y_test_tensor.size(0)\n",
    "correct = (predicted == y_test_tensor).sum().item()\n",
    "print('Accuracy of the network on the 10000 test images: {} %'.format(100 * correct / total))"
   ]
  },
  {
   "cell_type": "code",
   "execution_count": null,
   "metadata": {},
   "outputs": [],
   "source": []
  },
  {
   "cell_type": "markdown",
   "metadata": {},
   "source": [
    "## LSTM with Keras"
   ]
  },
  {
   "cell_type": "markdown",
   "metadata": {},
   "source": [
    "## 1. Data"
   ]
  },
  {
   "cell_type": "code",
   "execution_count": 3,
   "metadata": {},
   "outputs": [],
   "source": [
    "# # 1. UK word2vec\n",
    "# uk_vectors_file = 'word_vectors/news.lowercased.tokenized.word2vec.300d'\n",
    "# uk_vectors = KeyedVectors.load_word2vec_format(uk_vectors_file, binary=False)\n",
    "\n",
    "# # 2. Data\n",
    "# morph = pymorphy2.MorphAnalyzer(lang='uk')\n",
    "\n",
    "def getWords2Vect(text):\n",
    "    tokens = nltk.word_tokenize(text)\n",
    "    lemmas = [(morph.parse(token)[0]).normal_form for token in tokens]\n",
    "    \n",
    "    vectors = np.array([uk_vectors.get_vector(i.lower()) for i in lemmas if i.lower() in uk_vectors.vocab])    \n",
    "    return vectors\n",
    "\n",
    "def get_files_for_lstm(directory_path):\n",
    "    '''Read all files in the given directory to a dataframe'''\n",
    "    data = []\n",
    "\n",
    "    for filename in os.listdir(directory_path):\n",
    "        with open(os.path.join(directory_path, filename)) as f:\n",
    "            docs = re.split(r'\\n{3}', f.read())\n",
    "            for doc in docs:\n",
    "                try:\n",
    "                    language = detect(doc)\n",
    "                except:\n",
    "                    language = None\n",
    "                    continue\n",
    "                text_id = doc[:8].replace('\\n', '')\n",
    "                if doc.strip('\\n') and text_id.isdigit():\n",
    "                    data.append((text_id, filename[:len(filename)-4], doc[8:], language)) #\n",
    "\n",
    "    \n",
    "    df_data = pd.DataFrame(data, columns=['id', 'category', 'text', 'language'])\n",
    "    df_data = df_data[df_data['language']=='uk']\n",
    "    df_data = df_data[df_data['text'].map(lambda x: len(x.split())) > 3] \n",
    "    # Take categories with more than 50 samples\n",
    "    cat_sr = df_data['category'].value_counts()\n",
    "    cat_list = list(cat_sr[cat_sr  >= 50].index)\n",
    "    df_data = df_data[df_data['category'].isin(cat_list)] \n",
    "    \n",
    "    df_data['words2vec'] = df_data['text'].map(getWords2Vect)\n",
    "    df_data = df_data[df_data['words2vec'].map(lambda x: not(np.isnan(x).any()))].reset_index(drop=True)\n",
    "      \n",
    "    return df_data"
   ]
  },
  {
   "cell_type": "markdown",
   "metadata": {},
   "source": [
    "**Big dataset**"
   ]
  },
  {
   "cell_type": "code",
   "execution_count": null,
   "metadata": {},
   "outputs": [],
   "source": [
    "# data_path = 'data/1551/'\n",
    "# df_data = get_files_for_lstm(data_path)"
   ]
  },
  {
   "cell_type": "code",
   "execution_count": null,
   "metadata": {},
   "outputs": [],
   "source": [
    "# with open('lstm_big_df.pickle', 'wb') as f:\n",
    "#     pickle.dump(df_data[['category', 'words2vec']], f)"
   ]
  },
  {
   "cell_type": "code",
   "execution_count": 4,
   "metadata": {},
   "outputs": [],
   "source": [
    "with open('lstm_big_df.pickle', 'rb') as f:\n",
    "    df_data = pickle.load(f)[['category', 'words2vec']]"
   ]
  },
  {
   "cell_type": "raw",
   "metadata": {},
   "source": [
    "Беремо категорії з 300 і бльше прикладів"
   ]
  },
  {
   "cell_type": "code",
   "execution_count": 5,
   "metadata": {},
   "outputs": [],
   "source": [
    "# Take categories with more than 50 samples\n",
    "cat_sr = df_data['category'].value_counts()\n",
    "cat_list = list(cat_sr[cat_sr  >= 300].index)\n",
    "df_data = df_data[df_data['category'].isin(cat_list)] "
   ]
  },
  {
   "cell_type": "code",
   "execution_count": 65,
   "metadata": {},
   "outputs": [],
   "source": [
    "# df_data['category'].value_counts()"
   ]
  },
  {
   "cell_type": "code",
   "execution_count": 6,
   "metadata": {},
   "outputs": [
    {
     "data": {
      "text/plain": [
       "365"
      ]
     },
     "execution_count": 6,
     "metadata": {},
     "output_type": "execute_result"
    }
   ],
   "source": [
    "OUTPUT_DIM = df_data['category'].nunique()\n",
    "EMBEDDING_DIM = 300\n",
    "MAX_SENT_LEN = df_data['words2vec'].map(lambda x: len(x)).max()\n",
    "MAX_SENT_LEN"
   ]
  },
  {
   "cell_type": "code",
   "execution_count": 7,
   "metadata": {},
   "outputs": [
    {
     "data": {
      "text/plain": [
       "44"
      ]
     },
     "execution_count": 7,
     "metadata": {},
     "output_type": "execute_result"
    }
   ],
   "source": [
    "OUTPUT_DIM"
   ]
  },
  {
   "cell_type": "code",
   "execution_count": 8,
   "metadata": {},
   "outputs": [],
   "source": [
    "le = preprocessing.LabelEncoder()"
   ]
  },
  {
   "cell_type": "code",
   "execution_count": 9,
   "metadata": {},
   "outputs": [],
   "source": [
    "def get_train_test(df_data, x_column='words2vec', y_column='category'):\n",
    "    \n",
    "    #Input zero vectors to have sentence sequences with the same length\n",
    "    X, y = df_data[x_column], df_data[y_column]\n",
    "    X = pad_sequences(\n",
    "                        X,\n",
    "                        maxlen=MAX_SENT_LEN,\n",
    "                        dtype='float',\n",
    "                        padding='post',\n",
    "                        truncating='post',\n",
    "                        value=0.0\n",
    "                    )\n",
    "    \n",
    "    X_train, X_test, y_train, y_test = train_test_split(X, y, test_size=0.20, random_state=42)\n",
    "    \n",
    "    # LabelEncoder\n",
    "    le.fit(y_train)\n",
    "    y_train =  to_categorical(le.transform(y_train))\n",
    "    y_test =  to_categorical(le.transform(y_test))\n",
    "    \n",
    "    return X_train, X_test, y_train, y_test"
   ]
  },
  {
   "cell_type": "code",
   "execution_count": 10,
   "metadata": {},
   "outputs": [],
   "source": [
    "X_train, X_test, y_train, y_test = get_train_test(df_data, x_column='words2vec', y_column='category')"
   ]
  },
  {
   "cell_type": "markdown",
   "metadata": {},
   "source": [
    "## 2. LSTM architecture"
   ]
  },
  {
   "cell_type": "code",
   "execution_count": 11,
   "metadata": {},
   "outputs": [
    {
     "data": {
      "text/plain": [
       "(33938, 365, 300)"
      ]
     },
     "execution_count": 11,
     "metadata": {},
     "output_type": "execute_result"
    }
   ],
   "source": [
    "X_train.shape"
   ]
  },
  {
   "cell_type": "code",
   "execution_count": 15,
   "metadata": {},
   "outputs": [
    {
     "name": "stdout",
     "output_type": "stream",
     "text": [
      "_________________________________________________________________\n",
      "Layer (type)                 Output Shape              Param #   \n",
      "=================================================================\n",
      "lstm_2 (LSTM)                (None, 200)               400800    \n",
      "_________________________________________________________________\n",
      "dense_2 (Dense)              (None, 44)                8844      \n",
      "=================================================================\n",
      "Total params: 409,644\n",
      "Trainable params: 409,644\n",
      "Non-trainable params: 0\n",
      "_________________________________________________________________\n",
      "None\n"
     ]
    }
   ],
   "source": [
    "LSTM_OUT = 200#3\n",
    "\n",
    "model = Sequential()\n",
    "\n",
    "model.add(LSTM(units = LSTM_OUT, input_shape=(MAX_SENT_LEN, 300) ))#)) # ( number of time steps, number of input units)\n",
    "model.add(Dense(OUTPUT_DIM, activation='softmax'))\n",
    "model.compile(loss = 'categorical_crossentropy', optimizer='adam', metrics = ['accuracy'])\n",
    "print(model.summary())"
   ]
  },
  {
   "cell_type": "code",
   "execution_count": 16,
   "metadata": {},
   "outputs": [],
   "source": [
    "BATCH_SIZE = 300"
   ]
  },
  {
   "cell_type": "code",
   "execution_count": 17,
   "metadata": {},
   "outputs": [
    {
     "name": "stdout",
     "output_type": "stream",
     "text": [
      "WARNING:tensorflow:From /anaconda3/lib/python3.7/site-packages/tensorflow/python/ops/math_ops.py:3066: to_int32 (from tensorflow.python.ops.math_ops) is deprecated and will be removed in a future version.\n",
      "Instructions for updating:\n",
      "Use tf.cast instead.\n",
      "Train on 22738 samples, validate on 11200 samples\n",
      "Epoch 1/10\n",
      "22738/22738 [==============================] - 312s 14ms/step - loss: 3.5017 - acc: 0.1237 - val_loss: 3.4278 - val_acc: 0.1434\n",
      "Epoch 2/10\n",
      "22738/22738 [==============================] - 324s 14ms/step - loss: 3.4106 - acc: 0.1509 - val_loss: 3.4299 - val_acc: 0.1434\n",
      "Epoch 3/10\n",
      "22738/22738 [==============================] - 342s 15ms/step - loss: 3.4101 - acc: 0.1509 - val_loss: 3.4279 - val_acc: 0.1434\n",
      "Epoch 4/10\n",
      "22738/22738 [==============================] - 342s 15ms/step - loss: 3.4106 - acc: 0.1509 - val_loss: 3.4272 - val_acc: 0.1434\n",
      "Epoch 5/10\n",
      "22738/22738 [==============================] - 334s 15ms/step - loss: 3.4103 - acc: 0.1509 - val_loss: 3.4269 - val_acc: 0.1434\n",
      "Epoch 6/10\n",
      "22738/22738 [==============================] - 325s 14ms/step - loss: 3.4100 - acc: 0.1509 - val_loss: 3.4285 - val_acc: 0.1434\n",
      "Epoch 7/10\n",
      "22738/22738 [==============================] - 324s 14ms/step - loss: 3.4091 - acc: 0.1509 - val_loss: 3.4256 - val_acc: 0.1434\n",
      "Epoch 8/10\n",
      "22738/22738 [==============================] - 324s 14ms/step - loss: 3.4099 - acc: 0.1510 - val_loss: 3.4281 - val_acc: 0.1434\n",
      "Epoch 9/10\n",
      "22738/22738 [==============================] - 319s 14ms/step - loss: 3.4091 - acc: 0.1510 - val_loss: 3.4279 - val_acc: 0.1434\n",
      "Epoch 10/10\n",
      "22738/22738 [==============================] - 316s 14ms/step - loss: 3.4086 - acc: 0.1508 - val_loss: 3.4305 - val_acc: 0.1434\n"
     ]
    }
   ],
   "source": [
    "history = model.fit(X_train, y_train,\\\n",
    "          batch_size= BATCH_SIZE,\n",
    "          epochs = 10,\n",
    "          validation_split=0.33,          \n",
    "          verbose = 1)\n",
    "\n"
   ]
  },
  {
   "cell_type": "code",
   "execution_count": 18,
   "metadata": {},
   "outputs": [
    {
     "name": "stdout",
     "output_type": "stream",
     "text": [
      "acc: 14.342958161461402\n",
      "loss: 3.4249755964464628\n"
     ]
    }
   ],
   "source": [
    "scores = model.evaluate(X_test, y_test, verbose=0)\n",
    "print(\"{}: {}\\n{}: {}\".format(model.metrics_names[1], scores[1]*100, model.metrics_names[0], scores[0]))"
   ]
  },
  {
   "cell_type": "raw",
   "metadata": {},
   "source": [
    "Фінальна accuracy на test data - 14%"
   ]
  },
  {
   "cell_type": "markdown",
   "metadata": {},
   "source": [
    "**Plot Keras History**\n",
    "\n",
    "Plot loss and accuracy for the training and validation set."
   ]
  },
  {
   "cell_type": "code",
   "execution_count": 20,
   "metadata": {},
   "outputs": [],
   "source": [
    "def plot_history(history):\n",
    "    loss_list = [s for s in history.history.keys() if 'loss' in s and 'val' not in s]\n",
    "    val_loss_list = [s for s in history.history.keys() if 'loss' in s and 'val' in s]\n",
    "    acc_list = [s for s in history.history.keys() if 'acc' in s and 'val' not in s]\n",
    "    val_acc_list = [s for s in history.history.keys() if 'acc' in s and 'val' in s]\n",
    "    \n",
    "    if len(loss_list) == 0:\n",
    "        print('Loss is missing in history')\n",
    "        return \n",
    "    \n",
    "    ## As loss always exists\n",
    "    epochs = range(1,len(history.history[loss_list[0]]) + 1)\n",
    "    \n",
    "    ## Loss\n",
    "    plt.figure(1)\n",
    "    for l in loss_list:\n",
    "        plt.plot(epochs, history.history[l], 'b', label='Training loss (' + str(str(format(history.history[l][-1],'.5f'))+')'))\n",
    "    for l in val_loss_list:\n",
    "        plt.plot(epochs, history.history[l], 'g', label='Validation loss (' + str(str(format(history.history[l][-1],'.5f'))+')'))\n",
    "    \n",
    "    plt.title('Loss')\n",
    "    plt.xlabel('Epochs')\n",
    "    plt.ylabel('Loss')\n",
    "    plt.legend()\n",
    "    \n",
    "    ## Accuracy\n",
    "    plt.figure(2)\n",
    "    for l in acc_list:\n",
    "        plt.plot(epochs, history.history[l], 'b', label='Training accuracy (' + str(format(history.history[l][-1],'.5f'))+')')\n",
    "    for l in val_acc_list:    \n",
    "        plt.plot(epochs, history.history[l], 'g', label='Validation accuracy (' + str(format(history.history[l][-1],'.5f'))+')')\n",
    "\n",
    "    plt.title('Accuracy')\n",
    "    plt.xlabel('Epochs')\n",
    "    plt.ylabel('Accuracy')\n",
    "    plt.legend()\n",
    "    plt.show()"
   ]
  },
  {
   "cell_type": "code",
   "execution_count": 21,
   "metadata": {},
   "outputs": [
    {
     "data": {
      "image/png": "[encoded data removed]",
      "text/plain": [
       "<Figure size 432x288 with 1 Axes>"
      ]
     },
     "metadata": {
      "needs_background": "light"
     },
     "output_type": "display_data"
    },
    {
     "data": {
      "image/png": "[encoded data removed]",
      "text/plain": [
       "<Figure size 432x288 with 1 Axes>"
      ]
     },
     "metadata": {
      "needs_background": "light"
     },
     "output_type": "display_data"
    }
   ],
   "source": [
    "plot_history(history)"
   ]
  },
  {
   "cell_type": "code",
   "execution_count": null,
   "metadata": {},
   "outputs": [],
   "source": []
  },
  {
   "cell_type": "code",
   "execution_count": null,
   "metadata": {},
   "outputs": [],
   "source": []
  },
  {
   "cell_type": "code",
   "execution_count": null,
   "metadata": {},
   "outputs": [],
   "source": []
  }
 ],
 "metadata": {
  "kernelspec": {
   "display_name": "Python 3",
   "language": "python",
   "name": "python3"
  },
  "language_info": {
   "codemirror_mode": {
    "name": "ipython",
    "version": 3
   },
   "file_extension": ".py",
   "mimetype": "text/x-python",
   "name": "python",
   "nbconvert_exporter": "python",
   "pygments_lexer": "ipython3",
   "version": "3.7.2"
  }
 },
 "nbformat": 4,
 "nbformat_minor": 2
}
